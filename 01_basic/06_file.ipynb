{
 "cells": [
  {
   "cell_type": "code",
   "execution_count": 3,
   "id": "d03fbe25-a7c2-47da-ba41-8b1ce058e44f",
   "metadata": {},
   "outputs": [],
   "source": [
    "f = open('test.txt', 'a', encoding=\"UTF-8\")\n",
    "f.write(\"아링ㄹ마\")\n",
    "f.close()"
   ]
  },
  {
   "cell_type": "code",
   "execution_count": null,
   "id": "1689224a-8734-4618-9ab7-dd63c77118be",
   "metadata": {},
   "outputs": [],
   "source": []
  }
 ],
 "metadata": {
  "kernelspec": {
   "display_name": "Python 3 (ipykernel)",
   "language": "python",
   "name": "python3"
  },
  "language_info": {
   "codemirror_mode": {
    "name": "ipython",
    "version": 3
   },
   "file_extension": ".py",
   "mimetype": "text/x-python",
   "name": "python",
   "nbconvert_exporter": "python",
   "pygments_lexer": "ipython3",
   "version": "3.11.7"
  }
 },
 "nbformat": 4,
 "nbformat_minor": 5
}
