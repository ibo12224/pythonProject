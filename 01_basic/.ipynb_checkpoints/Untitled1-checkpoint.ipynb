{
 "cells": [
  {
   "cell_type": "markdown",
   "id": "11495ece-4362-4ac5-b15c-c9b2b0fbd6bc",
   "metadata": {},
   "source": [
    "# 1. 기본 데이터타입 익히기"
   ]
  },
  {
   "cell_type": "markdown",
   "id": "025afa4a-0759-4b10-ac16-2ea96eedf39e",
   "metadata": {},
   "source": [
    "## 1.숫자형"
   ]
  },
  {
   "cell_type": "code",
   "execution_count": 2,
   "id": "04d19863-1888-4df5-a115-468067bb40df",
   "metadata": {},
   "outputs": [
    {
     "name": "stdout",
     "output_type": "stream",
     "text": [
      "123\n"
     ]
    }
   ],
   "source": [
    "a=123\n",
    "print(a)"
   ]
  },
  {
   "cell_type": "code",
   "execution_count": 4,
   "id": "46961160-73c6-4012-8b1c-e8015d7520f0",
   "metadata": {},
   "outputs": [
    {
     "name": "stdout",
     "output_type": "stream",
     "text": [
      "123\n"
     ]
    },
    {
     "data": {
      "text/plain": [
       "45"
      ]
     },
     "execution_count": 4,
     "metadata": {},
     "output_type": "execute_result"
    }
   ],
   "source": [
    "b=45\n",
    "print(a)\n",
    "b"
   ]
  },
  {
   "cell_type": "code",
   "execution_count": 5,
   "id": "a64dba53-a3a5-42e7-9148-7cace8ad4b34",
   "metadata": {},
   "outputs": [
    {
     "data": {
      "text/plain": [
       "1.3"
      ]
     },
     "execution_count": 5,
     "metadata": {},
     "output_type": "execute_result"
    }
   ],
   "source": [
    "c=1.3\n",
    "c"
   ]
  },
  {
   "cell_type": "code",
   "execution_count": 6,
   "id": "b6c91593-9b8a-4ac3-918d-117d35465ed4",
   "metadata": {},
   "outputs": [
    {
     "data": {
      "text/plain": [
       "int"
      ]
     },
     "execution_count": 6,
     "metadata": {},
     "output_type": "execute_result"
    }
   ],
   "source": [
    "type(b)"
   ]
  },
  {
   "cell_type": "code",
   "execution_count": 7,
   "id": "c7483a87-e053-408a-8804-02b2ec0f4f81",
   "metadata": {},
   "outputs": [
    {
     "data": {
      "text/plain": [
       "float"
      ]
     },
     "execution_count": 7,
     "metadata": {},
     "output_type": "execute_result"
    }
   ],
   "source": [
    "type(c)"
   ]
  },
  {
   "cell_type": "code",
   "execution_count": 8,
   "id": "08622337-0ad7-46e9-b836-fe7ac3869873",
   "metadata": {},
   "outputs": [
    {
     "name": "stdout",
     "output_type": "stream",
     "text": [
      "<class 'float'>\n"
     ]
    }
   ],
   "source": [
    "print(type(c))"
   ]
  },
  {
   "cell_type": "code",
   "execution_count": 9,
   "id": "8fafc842-f6ec-4b29-bd5d-3fa8be276ead",
   "metadata": {},
   "outputs": [
    {
     "data": {
      "text/plain": [
       "63"
      ]
     },
     "execution_count": 9,
     "metadata": {},
     "output_type": "execute_result"
    }
   ],
   "source": [
    "d=0o77\n",
    "d"
   ]
  },
  {
   "cell_type": "code",
   "execution_count": 10,
   "id": "29aa4f3e-2afa-446d-b01c-e6aa9e64e918",
   "metadata": {},
   "outputs": [
    {
     "ename": "SyntaxError",
     "evalue": "invalid digit '8' in octal literal (331454058.py, line 1)",
     "output_type": "error",
     "traceback": [
      "\u001b[1;36m  Cell \u001b[1;32mIn[10], line 1\u001b[1;36m\u001b[0m\n\u001b[1;33m    e=0o8\u001b[0m\n\u001b[1;37m        ^\u001b[0m\n\u001b[1;31mSyntaxError\u001b[0m\u001b[1;31m:\u001b[0m invalid digit '8' in octal literal\n"
     ]
    }
   ],
   "source": [
    "e=0o8\n",
    "e"
   ]
  },
  {
   "cell_type": "code",
   "execution_count": 11,
   "id": "4edf2636-5e55-49ff-90a9-771a5866e2fd",
   "metadata": {},
   "outputs": [
    {
     "data": {
      "text/plain": [
       "int"
      ]
     },
     "execution_count": 11,
     "metadata": {},
     "output_type": "execute_result"
    }
   ],
   "source": [
    "type(d)\n"
   ]
  },
  {
   "cell_type": "code",
   "execution_count": 14,
   "id": "6e46bbad-e6d7-418c-87ce-d22902c1429a",
   "metadata": {},
   "outputs": [
    {
     "data": {
      "text/plain": [
       "255"
      ]
     },
     "execution_count": 14,
     "metadata": {},
     "output_type": "execute_result"
    }
   ],
   "source": [
    "e=0xff\n",
    "e"
   ]
  },
  {
   "cell_type": "code",
   "execution_count": 15,
   "id": "0a479fb4-3414-4aa4-872f-6fd25f775445",
   "metadata": {},
   "outputs": [
    {
     "name": "stdin",
     "output_type": "stream",
     "text": [
      "숫자 입력 55\n"
     ]
    },
    {
     "data": {
      "text/plain": [
       "'55'"
      ]
     },
     "execution_count": 15,
     "metadata": {},
     "output_type": "execute_result"
    }
   ],
   "source": [
    "data=input('숫자 입력')\n",
    "print(data)\n",
    "print(type(data))"
   ]
  },
  {
   "cell_type": "code",
   "execution_count": 17,
   "id": "a33c28fe-de24-4fdc-9298-0d74e43b3b5b",
   "metadata": {},
   "outputs": [
    {
     "name": "stdin",
     "output_type": "stream",
     "text": [
      "숫자 입력 44\n"
     ]
    },
    {
     "name": "stdout",
     "output_type": "stream",
     "text": [
      "44\n",
      "<class 'str'>\n"
     ]
    }
   ],
   "source": [
    "data=input('숫자 입력')\n",
    "print(data)\n",
    "print(type(data))"
   ]
  },
  {
   "cell_type": "code",
   "execution_count": 18,
   "id": "0a7335d3-5bb7-452f-939a-05ac55cddb34",
   "metadata": {},
   "outputs": [
    {
     "name": "stdout",
     "output_type": "stream",
     "text": [
      "<class 'int'>\n"
     ]
    }
   ],
   "source": [
    "data=int(data)\n",
    "print(type(data))\n"
   ]
  },
  {
   "cell_type": "code",
   "execution_count": 19,
   "id": "f25d87f6-e721-4a6a-8cb8-1e4a1d9ae0f5",
   "metadata": {},
   "outputs": [
    {
     "name": "stdin",
     "output_type": "stream",
     "text": [
      "과일개수<< 8\n"
     ]
    },
    {
     "name": "stdout",
     "output_type": "stream",
     "text": [
      "총 8  개\n",
      "박스 2 남은 과일: 2\n"
     ]
    }
   ],
   "source": [
    "\n",
    "fruit=int(input('과일개수<<'))\n",
    "a=fruit//3\n",
    "print(\"총\",fruit,\" 개\")\n",
    "print('박스',a,'남은 과일:',fruit%3)\n"
   ]
  },
  {
   "cell_type": "markdown",
   "id": "d98f5137-ee25-436e-96f8-e8e19f6724d5",
   "metadata": {},
   "source": [
    "## 2. 문자열 자료형"
   ]
  },
  {
   "cell_type": "code",
   "execution_count": 2,
   "id": "eecdff80-4835-4cff-ba8d-cf7126b2690a",
   "metadata": {},
   "outputs": [
    {
     "data": {
      "text/plain": [
       "'pythonpython'"
      ]
     },
     "execution_count": 2,
     "metadata": {},
     "output_type": "execute_result"
    }
   ],
   "source": [
    "a='python'\n",
    "a*2\n"
   ]
  },
  {
   "cell_type": "code",
   "execution_count": 3,
   "id": "9334f958-77e9-4ccd-8321-65f168ff9bbe",
   "metadata": {},
   "outputs": [
    {
     "data": {
      "text/plain": [
       "'pyth'"
      ]
     },
     "execution_count": 3,
     "metadata": {},
     "output_type": "execute_result"
    }
   ],
   "source": [
    "a[0:4]\n"
   ]
  },
  {
   "cell_type": "code",
   "execution_count": 4,
   "id": "56d95bd3-a3cc-48dd-b5f3-a6aa18a9a279",
   "metadata": {},
   "outputs": [
    {
     "data": {
      "text/plain": [
       "''"
      ]
     },
     "execution_count": 4,
     "metadata": {},
     "output_type": "execute_result"
    }
   ],
   "source": [
    "a[7:-3]"
   ]
  },
  {
   "cell_type": "code",
   "execution_count": 15,
   "id": "3348b87a-2bbf-4fa9-8efb-c743351eaa2e",
   "metadata": {},
   "outputs": [
    {
     "name": "stdin",
     "output_type": "stream",
     "text": [
      " dfaf.com\n"
     ]
    },
    {
     "name": "stdout",
     "output_type": "stream",
     "text": [
      ".com\n"
     ]
    }
   ],
   "source": [
    "email=input()\n",
    "print(email[-4:])"
   ]
  },
  {
   "cell_type": "code",
   "execution_count": 17,
   "id": "dab18ed5-6821-4564-900a-e8418854f732",
   "metadata": {},
   "outputs": [
    {
     "data": {
      "text/plain": [
       "'I eat 1, 2'"
      ]
     },
     "execution_count": 17,
     "metadata": {},
     "output_type": "execute_result"
    }
   ],
   "source": [
    "a=\"I eat {0}, {1}\"\n",
    "a.format(1,2)"
   ]
  },
  {
   "cell_type": "code",
   "execution_count": 18,
   "id": "5f812ad3-ce31-4219-a9cf-9f382de9911c",
   "metadata": {},
   "outputs": [
    {
     "data": {
      "text/plain": [
       "'3.11.7 | packaged by Anaconda, Inc. | (main, Dec 15 2023, 18:05:47) [MSC v.1916 64 bit (AMD64)]'"
      ]
     },
     "execution_count": 18,
     "metadata": {},
     "output_type": "execute_result"
    }
   ],
   "source": [
    "import sys\n",
    "sys.version"
   ]
  },
  {
   "cell_type": "code",
   "execution_count": 22,
   "id": "4779e41f-97db-4df1-bb57-57cd8e8e92d1",
   "metadata": {},
   "outputs": [
    {
     "data": {
      "text/plain": [
       "'나의 이름은 dfdfadf이고 나이는 ddd이다.'"
      ]
     },
     "execution_count": 22,
     "metadata": {},
     "output_type": "execute_result"
    }
   ],
   "source": [
    "name=\"dfdfadf\"\n",
    "efo=\"ddd\"\n",
    "a=f'나의 이름은 {name}이고 나이는 {efo}이다.'\n",
    "a"
   ]
  },
  {
   "cell_type": "code",
   "execution_count": 32,
   "id": "7a733d86-1046-46a9-9a8e-0a348dc0a453",
   "metadata": {},
   "outputs": [
    {
     "data": {
      "text/plain": [
       "9"
      ]
     },
     "execution_count": 32,
     "metadata": {},
     "output_type": "execute_result"
    }
   ],
   "source": [
    "a = \"Python is4 the best choice\"\n",
    "a.find('4')"
   ]
  },
  {
   "cell_type": "code",
   "execution_count": 1,
   "id": "9110b1ce-41e9-4ca5-b4a1-03c8bfba4317",
   "metadata": {},
   "outputs": [
    {
     "data": {
      "text/plain": [
       "[1, 2, {1, 2, 3}]"
      ]
     },
     "execution_count": 1,
     "metadata": {},
     "output_type": "execute_result"
    }
   ],
   "source": [
    "d=[1,2,{1,2,3}]\n",
    "d"
   ]
  },
  {
   "cell_type": "code",
   "execution_count": 2,
   "id": "1bf4fcf8-1f8f-4a55-8a22-bee9a59f586d",
   "metadata": {},
   "outputs": [
    {
     "name": "stdout",
     "output_type": "stream",
     "text": [
      "[1, 2, {1, 2, 3}]\n"
     ]
    }
   ],
   "source": [
    "print(d)"
   ]
  },
  {
   "cell_type": "code",
   "execution_count": 3,
   "id": "bcc5a2bc-95cb-4104-a8d4-8e12ea6d74e7",
   "metadata": {},
   "outputs": [
    {
     "data": {
      "text/plain": [
       "2"
      ]
     },
     "execution_count": 3,
     "metadata": {},
     "output_type": "execute_result"
    }
   ],
   "source": [
    "d[1]"
   ]
  },
  {
   "cell_type": "code",
   "execution_count": 1,
   "id": "76d24e1a-aadb-4b82-9803-1e63f9a2d5bd",
   "metadata": {},
   "outputs": [
    {
     "data": {
      "text/plain": [
       "{'name': 1}"
      ]
     },
     "execution_count": 1,
     "metadata": {},
     "output_type": "execute_result"
    }
   ],
   "source": [
    "dic={}\n",
    "dic['name']=1\n",
    "dic"
   ]
  },
  {
   "cell_type": "markdown",
   "id": "8c458996-b3bb-489c-9eed-680ca14a5321",
   "metadata": {},
   "source": [
    "## quiz"
   ]
  },
  {
   "cell_type": "code",
   "execution_count": 2,
   "id": "b4c0cf4d-4d26-4618-a337-05780418e2e7",
   "metadata": {},
   "outputs": [
    {
     "data": {
      "text/plain": [
       "dict_keys(['name'])"
      ]
     },
     "execution_count": 2,
     "metadata": {},
     "output_type": "execute_result"
    }
   ],
   "source": [
    "dic.keys()"
   ]
  },
  {
   "cell_type": "code",
   "execution_count": 3,
   "id": "763d6c3a-092d-4255-875a-5012c3b20234",
   "metadata": {},
   "outputs": [
    {
     "data": {
      "text/plain": [
       "dict_values([1])"
      ]
     },
     "execution_count": 3,
     "metadata": {},
     "output_type": "execute_result"
    }
   ],
   "source": [
    "dic.values()"
   ]
  },
  {
   "cell_type": "code",
   "execution_count": 4,
   "id": "f1643690-2cc6-4f60-a6d2-fec5d11128a9",
   "metadata": {},
   "outputs": [
    {
     "data": {
      "text/plain": [
       "dict_items([('name', 1)])"
      ]
     },
     "execution_count": 4,
     "metadata": {},
     "output_type": "execute_result"
    }
   ],
   "source": [
    "dic.items()"
   ]
  },
  {
   "cell_type": "code",
   "execution_count": 5,
   "id": "c07f6849-8e08-4fab-a5dc-e1e17e5c546d",
   "metadata": {},
   "outputs": [
    {
     "data": {
      "text/plain": [
       "dict_items"
      ]
     },
     "execution_count": 5,
     "metadata": {},
     "output_type": "execute_result"
    }
   ],
   "source": [
    "type(dic.items())"
   ]
  },
  {
   "cell_type": "code",
   "execution_count": 2,
   "id": "c256eece-4376-4084-8bd5-fa7012fc161c",
   "metadata": {},
   "outputs": [
    {
     "name": "stdout",
     "output_type": "stream",
     "text": [
      "2 1\n"
     ]
    }
   ],
   "source": [
    "a,b=1,2\n",
    "a,b=b,a\n",
    "print(a,b)"
   ]
  },
  {
   "cell_type": "code",
   "execution_count": 5,
   "id": "03c51793-770f-4a30-96bf-b2d2a76255b3",
   "metadata": {},
   "outputs": [
    {
     "name": "stdin",
     "output_type": "stream",
     "text": [
      "주민등록번호: 11111111\n"
     ]
    },
    {
     "name": "stdout",
     "output_type": "stream",
     "text": [
      "남자입니다.\n"
     ]
    }
   ],
   "source": [
    "num=input(\"주민등록번호:\")\n",
    "if int(num[7])%2==0:\n",
    "    print(\"여자입니다\")\n",
    "else:\n",
    "    print(\"남자입니다.\")\n"
   ]
  },
  {
   "cell_type": "code",
   "execution_count": 7,
   "id": "f0df3f15-3c55-4f32-a0fc-95299c04df8c",
   "metadata": {},
   "outputs": [
    {
     "name": "stdin",
     "output_type": "stream",
     "text": [
      "주민등록번호: qqq1111111111111111\n"
     ]
    },
    {
     "name": "stdout",
     "output_type": "stream",
     "text": [
      "남자입니다.\n"
     ]
    }
   ],
   "source": [
    "num=input(\"주민등록번호:\")\n",
    "print(\"여자입니다\") if int(num[7])%2==0 else  print(\"남자입니다.\")"
   ]
  },
  {
   "cell_type": "code",
   "execution_count": 6,
   "id": "3e4fd0c6-ab8b-47b6-ac7c-fd33cc70c652",
   "metadata": {},
   "outputs": [
    {
     "name": "stdin",
     "output_type": "stream",
     "text": [
      "이메일 입력 123@\n"
     ]
    },
    {
     "name": "stdout",
     "output_type": "stream",
     "text": [
      "123\n"
     ]
    }
   ],
   "source": [
    "email=input(\"이메일 입력\")\n",
    "a=email.find('@')\n",
    "if a==-1:\n",
    "    print(\"@가 없다\")\n",
    "else:\n",
    "    print(email[:a])"
   ]
  },
  {
   "cell_type": "code",
   "execution_count": null,
   "id": "e741fd57-e0cd-4c4a-9edf-54b766fc8197",
   "metadata": {},
   "outputs": [],
   "source": []
  }
 ],
 "metadata": {
  "kernelspec": {
   "display_name": "Python 3 (ipykernel)",
   "language": "python",
   "name": "python3"
  },
  "language_info": {
   "codemirror_mode": {
    "name": "ipython",
    "version": 3
   },
   "file_extension": ".py",
   "mimetype": "text/x-python",
   "name": "python",
   "nbconvert_exporter": "python",
   "pygments_lexer": "ipython3",
   "version": "3.11.7"
  }
 },
 "nbformat": 4,
 "nbformat_minor": 5
}
